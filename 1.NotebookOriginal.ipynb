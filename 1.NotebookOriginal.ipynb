{
    "metadata": {
        "kernelspec": {
            "name": "SQL",
            "display_name": "SQL",
            "language": "sql"
        },
        "language_info": {
            "name": "sql",
            "version": ""
        }
    },
    "nbformat_minor": 2,
    "nbformat": 4,
    "cells": [
        {
            "cell_type": "markdown",
            "source": [
                "# Deploy 12345\r\n",
                "## Levantamento de informações\r\n",
                "\r\n",
                "* Versão do banco"
            ],
            "metadata": {
                "azdata_cell_guid": "cfd6a3cd-9435-4eb2-8c31-b171c2fef670"
            }
        },
        {
            "cell_type": "code",
            "source": [
                "USE Teste\r\n",
                "SELECT @@VERSION AS 'Versão do Banco'"
            ],
            "metadata": {
                "azdata_cell_guid": "d6a30595-0680-4a9d-8b59-d68af7556999"
            },
            "outputs": [],
            "execution_count": null
        },
        {
            "cell_type": "markdown",
            "source": [
                "* Existência da tabela"
            ],
            "metadata": {
                "azdata_cell_guid": "09bf6594-b583-435b-b48c-05cee303c450"
            }
        },
        {
            "cell_type": "code",
            "source": [
                "IF EXISTS (SELECT 1 FROM sys.objects WHERE name = 'ABCD')\r\n",
                "    PRINT 'EXISTE!!'\r\n",
                "ELSE\r\n",
                "    PRINT 'NÃO EXISTE'"
            ],
            "metadata": {
                "azdata_cell_guid": "2276fefc-cd76-4ad8-880c-0120a4e84fbb",
                "tags": [
                    "hide_input"
                ]
            },
            "outputs": [],
            "execution_count": null
        },
        {
            "cell_type": "markdown",
            "source": [
                "## Criação dos objetos\r\n",
                "* Tabela"
            ],
            "metadata": {
                "azdata_cell_guid": "b9e08fe3-aad8-45f2-bdaa-a19c56382967"
            }
        },
        {
            "cell_type": "code",
            "source": [
                "CREATE TABLE ABCD (\r\n",
                "    ID INT IDENTITY PRIMARY KEY,\r\n",
                "    NOME VARCHAR (100),\r\n",
                "    CIDADE VARCHAR (100)\r\n",
                ")"
            ],
            "metadata": {
                "azdata_cell_guid": "7627d8bc-0e12-4625-aa2d-f9b50c4a091d",
                "tags": [
                    "hide_input"
                ]
            },
            "outputs": [],
            "execution_count": null
        },
        {
            "cell_type": "markdown",
            "source": [
                "* Procedure"
            ],
            "metadata": {
                "azdata_cell_guid": "001c1ef6-a9ca-4901-ba64-17a1e6d6849f"
            }
        },
        {
            "cell_type": "code",
            "source": [
                "CREATE PROC InsertABCD (\r\n",
                "    @Nome VARCHAR (100),\r\n",
                "    @Cidade VARCHAR (100)\r\n",
                ")\r\n",
                "AS\r\n",
                "    INSERT INTO ABCD (Nome, Cidade)\r\n",
                "    VALUES (@Nome, @Cidade)\r\n",
                "GO"
            ],
            "metadata": {
                "azdata_cell_guid": "55242183-ab76-43e0-aa6c-95607bfc316d",
                "tags": [
                    "hide_input"
                ]
            },
            "outputs": [],
            "execution_count": null
        },
        {
            "cell_type": "markdown",
            "source": [
                "## Insert de valores default"
            ],
            "metadata": {
                "azdata_cell_guid": "cad5a7ac-0dd7-4acd-bbaa-dd2942958b70"
            }
        },
        {
            "cell_type": "code",
            "source": [
                "EXEC InsertABCD 'João', 'Porto Alegre'\r\n",
                "EXEC InsertABCD 'Maria', 'São Paulo'\r\n",
                "EXEC InsertABCD 'Paulo', 'São Bernardo do Campo'\r\n",
                "EXEC InsertABCD 'José', 'Rio de Janeiro'"
            ],
            "metadata": {
                "azdata_cell_guid": "829e3b5f-1696-4815-af4e-6054b0a1394a",
                "tags": [
                    "hide_input"
                ]
            },
            "outputs": [],
            "execution_count": null
        },
        {
            "cell_type": "markdown",
            "source": [
                "## Validação"
            ],
            "metadata": {
                "azdata_cell_guid": "867619d3-6c9a-4545-97ae-5f2969222be7"
            }
        },
        {
            "cell_type": "code",
            "source": [
                "SELECT ID, Nome, Cidade FROM ABCD"
            ],
            "metadata": {
                "azdata_cell_guid": "3352b597-9cc7-4a1d-b2b5-27cbccd264a6"
            },
            "outputs": [],
            "execution_count": null
        }
    ]
}